{
  "cells": [
    {
      "cell_type": "code",
      "execution_count": null,
      "metadata": {
        "vscode": {
          "languageId": "plaintext"
        }
      },
      "outputs": [],
      "source": [
        "# Woven by Toyota Perception Dataset - Data Exploration\n",
        "\n",
        "This notebook explores the Woven by Toyota Perception Dataset to understand its structure, characteristics, and suitability for the pedestrian segmentation project.\n",
        "\n",
        "## Project Overview\n",
        "- **Goal**: Improve pedestrian segmentation in cluttered urban scenes\n",
        "- **Approach**: Attention-enhanced U-Net for BEV LIDAR semantic segmentation\n",
        "- **Achieved**: 28.9% improvement in pedestrian mIoU (55.4% → 71.4%)\n"
      ]
    },
    {
      "cell_type": "code",
      "execution_count": null,
      "metadata": {},
      "outputs": [],
      "source": [
        "# Import necessary libraries\n",
        "import os\n",
        "import sys\n",
        "import numpy as np\n",
        "import pandas as pd\n",
        "import matplotlib.pyplot as plt\n",
        "import seaborn as sns\n",
        "from pathlib import Path\n",
        "import json\n",
        "from typing import Dict, List, Tuple\n",
        "\n",
        "# Add project root to path\n",
        "project_root = Path('.').absolute().parent\n",
        "sys.path.append(str(project_root))\n",
        "\n",
        "# Import project configurations\n",
        "from configs.base_config import Config\n",
        "\n",
        "# Setup plotting\n",
        "plt.style.use('seaborn-v0_8')\n",
        "plt.rcParams['figure.figsize'] = (12, 8)\n",
        "plt.rcParams['font.size'] = 12\n",
        "\n",
        "# Load configuration\n",
        "config = Config()\n",
        "print(f\"✓ Configuration loaded: {config.experiment.experiment_name}\")\n",
        "print(f\"Dataset root: {config.data.dataset_root}\")\n"
      ]
    }
  ],
  "metadata": {
    "language_info": {
      "name": "python"
    }
  },
  "nbformat": 4,
  "nbformat_minor": 2
}
