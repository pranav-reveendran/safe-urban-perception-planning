{
  "cells": [
    {
      "cell_type": "code",
      "execution_count": null,
      "metadata": {
        "vscode": {
          "languageId": "plaintext"
        }
      },
      "outputs": [],
      "source": [
        "# Woven by Toyota Dataset Exploration\n",
        "\n",
        "This notebook provides an interactive exploration of the Woven by Toyota Perception Dataset used for pedestrian segmentation.\n",
        "\n",
        "## 🎯 Objectives\n",
        "- Understand dataset structure and format\n",
        "- Visualize BEV LIDAR data and annotations\n",
        "- Analyze class distribution and statistics\n",
        "- Explore different scenarios and conditions\n"
      ]
    },
    {
      "cell_type": "code",
      "execution_count": null,
      "metadata": {},
      "outputs": [],
      "source": [
        "# Setup and imports\n",
        "import sys\n",
        "from pathlib import Path\n",
        "\n",
        "# Add project root to path\n",
        "project_root = Path().absolute().parent.parent\n",
        "sys.path.append(str(project_root))\n",
        "\n",
        "import numpy as np\n",
        "import matplotlib.pyplot as plt\n",
        "import seaborn as sns\n",
        "import pandas as pd\n",
        "import json\n",
        "from matplotlib.colors import ListedColormap\n",
        "import warnings\n",
        "warnings.filterwarnings('ignore')\n",
        "\n",
        "# Project imports\n",
        "from configs.base_config import Config\n",
        "from utils.data_loading import WovenDataset\n",
        "from utils.preprocessing import LidarBEVProcessor\n",
        "\n",
        "# Set up plotting\n",
        "plt.style.use('seaborn-v0_8')\n",
        "sns.set_palette(\"husl\")\n",
        "%matplotlib inline\n"
      ]
    }
  ],
  "metadata": {
    "language_info": {
      "name": "python"
    }
  },
  "nbformat": 4,
  "nbformat_minor": 2
}
